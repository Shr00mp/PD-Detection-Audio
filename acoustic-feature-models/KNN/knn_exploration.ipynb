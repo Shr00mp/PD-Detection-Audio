{
 "cells": [
  {
   "cell_type": "code",
   "execution_count": 1,
   "id": "c418bda9",
   "metadata": {},
   "outputs": [],
   "source": [
    "import numpy as np\n",
    "import pandas as pd\n",
    "from sklearn.model_selection import KFold\n",
    "from sklearn.neighbors import KNeighborsClassifier\n",
    "from sklearn.metrics import accuracy_score, precision_score, recall_score, f1_score\n",
    "from sklearn.preprocessing import StandardScaler\n",
    "from sklearn.feature_selection import SelectKBest, f_classif\n",
    "from sklearn.feature_selection import RFE\n",
    "from sklearn.linear_model import LogisticRegression\n",
    "from sklearn.ensemble import RandomForestClassifier\n",
    "import matplotlib.pyplot as plt"
   ]
  },
  {
   "cell_type": "code",
   "execution_count": 2,
   "id": "58e0ebba",
   "metadata": {},
   "outputs": [],
   "source": [
    "from knn_class import KNNModel"
   ]
  },
  {
   "cell_type": "code",
   "execution_count": 3,
   "id": "aaa6f029",
   "metadata": {},
   "outputs": [],
   "source": [
    "df = pd.read_csv(\"../audio_features.csv\")\n",
    "X = df.drop(columns=[\"Sample ID\", \"Label\"])  # Features\n",
    "Y = df[\"Label\"]  # Labels"
   ]
  },
  {
   "cell_type": "markdown",
   "id": "ab7e92da",
   "metadata": {},
   "source": [
    "I will be analysing each of the states in the table below. <br>\n",
    "Data will be stored as a 2D list. Each element will be a list of 4 items. <br>\n",
    "Lists will store [best k, best accuracy, best f, relative path to image of k-accuracy graph] <br>\n",
    "\n",
    "| |w/o feature selection| Filter method | Wrapper method | Embedded method | Intersection\n",
    "|:--------:|:--------:|:--------:|:--------:|:--------:|:--------:|\n",
    "|  **w/o normalisation**   |  (1)  |  (3)   | (5) | (7) | (9) |\n",
    "|  **w/ normalisation**   |  (2)  |  (4)   | (6) | (8) | (10) |"
   ]
  },
  {
   "cell_type": "code",
   "execution_count": 4,
   "id": "785b7031",
   "metadata": {},
   "outputs": [
    {
     "name": "stdout",
     "output_type": "stream",
     "text": [
      "Best k: 3 \n",
      "Max accuracy: 0.5661764705882353 \n",
      "Best f: 10\n"
     ]
    }
   ],
   "source": [
    "knn_table = [\n",
    "    [[], [], [], [], []],\n",
    "    [[], [], [], [], []]\n",
    "]\n",
    "\n",
    "# (1)\n",
    "# for each f, find best k and corresponding accuracy and fig\n",
    "# then, will find max accuracy and take the corresponding elements\n",
    "# below stores k, best f, accuracy, fig\n",
    "all_f_accuracy = [[], \n",
    "                  [],\n",
    "                  [],\n",
    "                  []]\n",
    "for f in range(10, 21):\n",
    "    knn_model = KNNModel(X, Y, False, False, \"\", f)\n",
    "    fig = knn_model.plot_k_accuracy(30)\n",
    "    all_f_accuracy[0].append(knn_model.best_k)\n",
    "    all_f_accuracy[1].append(knn_model.best_accuracy)\n",
    "    all_f_accuracy[2].append(f)\n",
    "    all_f_accuracy[3].append(fig)\n",
    "index_of_max = all_f_accuracy[1].index(max(all_f_accuracy[1]))\n",
    "best_k = all_f_accuracy[0][index_of_max]\n",
    "max_accuracy = all_f_accuracy[1][index_of_max]\n",
    "best_f = all_f_accuracy[2][index_of_max]\n",
    "fig = all_f_accuracy[3][index_of_max]\n",
    "fig.savefig(\"k_accuracy_graphs/1_knn_plot.png\")\n",
    "knn_table[0][0] = [best_k, max_accuracy, best_f, \"\"]\n",
    "print(f\"Best k: {best_k} \\nMax accuracy: {max_accuracy} \\nBest f: {best_f}\")"
   ]
  }
 ],
 "metadata": {
  "kernelspec": {
   "display_name": "venv",
   "language": "python",
   "name": "python3"
  },
  "language_info": {
   "codemirror_mode": {
    "name": "ipython",
    "version": 3
   },
   "file_extension": ".py",
   "mimetype": "text/x-python",
   "name": "python",
   "nbconvert_exporter": "python",
   "pygments_lexer": "ipython3",
   "version": "3.10.11"
  }
 },
 "nbformat": 4,
 "nbformat_minor": 5
}
