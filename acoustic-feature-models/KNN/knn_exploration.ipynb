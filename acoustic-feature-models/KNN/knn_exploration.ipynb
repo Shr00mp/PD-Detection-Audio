{
 "cells": [
  {
   "cell_type": "code",
   "execution_count": 3,
   "id": "c418bda9",
   "metadata": {},
   "outputs": [],
   "source": [
    "import numpy as np\n",
    "import pandas as pd\n",
    "from sklearn.model_selection import KFold\n",
    "from sklearn.neighbors import KNeighborsClassifier\n",
    "from sklearn.metrics import accuracy_score, precision_score, recall_score, f1_score\n",
    "from sklearn.preprocessing import StandardScaler\n",
    "from sklearn.feature_selection import SelectKBest, f_classif\n",
    "from sklearn.feature_selection import RFE\n",
    "from sklearn.linear_model import LogisticRegression\n",
    "from sklearn.ensemble import RandomForestClassifier\n",
    "import matplotlib.pyplot as plt"
   ]
  },
  {
   "cell_type": "code",
   "execution_count": 4,
   "id": "58e0ebba",
   "metadata": {},
   "outputs": [],
   "source": [
    "from knn_class import KNNModel"
   ]
  },
  {
   "cell_type": "code",
   "execution_count": null,
   "id": "aaa6f029",
   "metadata": {},
   "outputs": [],
   "source": [
    "df = pd.read_csv(\"../audio_features.csv\")\n",
    "X = df.drop(columns=[\"Sample ID\", \"Label\"])  # Features\n",
    "Y = df[\"Label\"]  # Labels"
   ]
  }
 ],
 "metadata": {
  "kernelspec": {
   "display_name": "venv",
   "language": "python",
   "name": "python3"
  },
  "language_info": {
   "codemirror_mode": {
    "name": "ipython",
    "version": 3
   },
   "file_extension": ".py",
   "mimetype": "text/x-python",
   "name": "python",
   "nbconvert_exporter": "python",
   "pygments_lexer": "ipython3",
   "version": "3.10.11"
  }
 },
 "nbformat": 4,
 "nbformat_minor": 5
}
