{
 "cells": [
  {
   "cell_type": "code",
   "execution_count": 7,
   "id": "ae39dd7e",
   "metadata": {},
   "outputs": [
    {
     "name": "stdout",
     "output_type": "stream",
     "text": [
      "Current working directory: c:\\Users\\sharo\\OneDrive - St Paul's Girls' School\\Tech Elective\\audioDetection\\demographic-analysis\n"
     ]
    }
   ],
   "source": [
    "import pandas as pd\n",
    "import os\n",
    "print(f\"Current working directory: {os.getcwd()}\")"
   ]
  },
  {
   "cell_type": "code",
   "execution_count": 8,
   "id": "bcaaf51c",
   "metadata": {},
   "outputs": [],
   "source": [
    "# demographics contains audio files labeled with HC/PwPD, age and sex\n",
    "demographics = pd.read_csv(\"Demographics_age_sex.csv\")\n",
    "\n",
    "# Counts the number of PwPD and HC\n",
    "num_pd = (demographics[\"Label\"] == \"PwPD\").sum()\n",
    "num_hc = (demographics[\"Label\"] == \"HC\").sum()\n",
    "\n",
    "# Counts number of male and female patients with and w/o PD\n",
    "num_pd_m = ((demographics[\"Label\"] == \"PwPD\") & (demographics[\"Sex\"] == \"M\")).sum()\n",
    "num_pd_f = ((demographics[\"Label\"] == \"PwPD\") & (demographics[\"Sex\"] == \"F\")).sum()\n",
    "num_hc_m = ((demographics[\"Label\"] == \"HC\") & (demographics[\"Sex\"] == \"M\")).sum()\n",
    "num_hc_f = ((demographics[\"Label\"] == \"HC\") & (demographics[\"Sex\"] == \"F\")).sum()\n",
    "\n",
    "# Create DataFrames grouped by the label for age\n",
    "age_stats = demographics.groupby(\"Label\")[\"Age\"].agg([\"mean\", \"std\"]).round(0)\n",
    "# Gets mean age and age std for PwPD and HC labels\n",
    "pd_mean_age = age_stats.loc[\"PwPD\", \"mean\"]\n",
    "pd_std_age = age_stats.loc[\"PwPD\", \"std\"]\n",
    "hc_mean_age = age_stats.loc[\"HC\", \"mean\"]\n",
    "hc_std_age = age_stats.loc[\"HC\", \"std\"]"
   ]
  },
  {
   "cell_type": "markdown",
   "id": "d2e83067",
   "metadata": {},
   "source": [
    "Printing the table by representing male and female as raw numbers:"
   ]
  },
  {
   "cell_type": "code",
   "execution_count": 9,
   "id": "fb08c1e7",
   "metadata": {},
   "outputs": [
    {
     "name": "stdout",
     "output_type": "stream",
     "text": [
      "          PD  HC\n",
      "total     40  41\n",
      "mean age  67  48\n",
      "age std    9  14\n",
      "number M  21  16\n",
      "number F  19  25\n"
     ]
    }
   ],
   "source": [
    "# Print data in a table (pandas dataframe)\n",
    "summary_data = {\n",
    "    \"PD\": {\n",
    "        \"total\": num_pd,\n",
    "        \"mean age\": int(pd_mean_age),\n",
    "        \"age std\": int(pd_std_age),\n",
    "        \"number M\": num_pd_m,\n",
    "        \"number F\": num_pd_f\n",
    "    },\n",
    "    \"HC\" : {\n",
    "        \"total\": num_hc,\n",
    "        \"mean age\": int(hc_mean_age),\n",
    "        \"age std\": int(hc_std_age),\n",
    "        \"number M\": num_hc_m,\n",
    "        \"number F\": num_hc_f\n",
    "    }\n",
    "}\n",
    "\n",
    "df_summary = pd.DataFrame(summary_data)\n",
    "print(df_summary)"
   ]
  },
  {
   "cell_type": "markdown",
   "id": "ca5067a6",
   "metadata": {},
   "source": [
    "Printing the male and female numbers as percentages:"
   ]
  },
  {
   "cell_type": "code",
   "execution_count": 10,
   "id": "c8a236bc",
   "metadata": {},
   "outputs": [
    {
     "name": "stdout",
     "output_type": "stream",
     "text": [
      "               PD   HC\n",
      "total          40   41\n",
      "mean age       67   48\n",
      "age std         9   14\n",
      "percentage M  52%  39%\n",
      "percentage F  47%  60%\n"
     ]
    }
   ],
   "source": [
    "# Print data in a table (pandas dataframe)\n",
    "summary_data = {\n",
    "    \"PD\": {\n",
    "        \"total\": num_pd,\n",
    "        \"mean age\": int(pd_mean_age),\n",
    "        \"age std\": int(pd_std_age),\n",
    "        \"percentage M\": str(int((num_pd_m/num_pd)*100)) + \"%\",\n",
    "        \"percentage F\": str(int((num_pd_f/num_pd)*100)) + \"%\"\n",
    "    },\n",
    "    \"HC\" : {\n",
    "        \"total\": num_hc,\n",
    "        \"mean age\": int(hc_mean_age),\n",
    "        \"age std\": int(hc_std_age),\n",
    "        \"percentage M\": str(int((num_hc_m/num_hc)*100)) + \"%\",\n",
    "        \"percentage F\": str(int((num_hc_f/num_hc)*100)) + \"%\"\n",
    "    }\n",
    "}\n",
    "\n",
    "df_summary = pd.DataFrame(summary_data)\n",
    "print(df_summary)"
   ]
  }
 ],
 "metadata": {
  "kernelspec": {
   "display_name": "venv",
   "language": "python",
   "name": "python3"
  },
  "language_info": {
   "codemirror_mode": {
    "name": "ipython",
    "version": 3
   },
   "file_extension": ".py",
   "mimetype": "text/x-python",
   "name": "python",
   "nbconvert_exporter": "python",
   "pygments_lexer": "ipython3",
   "version": "3.10.11"
  }
 },
 "nbformat": 4,
 "nbformat_minor": 5
}
